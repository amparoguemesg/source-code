{
 "cells": [
  {
   "cell_type": "markdown",
   "metadata": {
    "heading_collapsed": true,
    "tags": []
   },
   "source": [
    "## Notes"
   ]
  },
  {
   "cell_type": "markdown",
   "metadata": {
    "hidden": true,
    "tags": []
   },
   "source": [
    "-------------- \n",
    "### Comments and observations  \n",
    "------------------------------\n",
    "Created by Amparo Guemes (1 April 2023)\n",
    "Code for processing LFP recorded using tungsten microwires coated with PEDOT\n"
   ]
  },
  {
   "cell_type": "markdown",
   "metadata": {
    "heading_collapsed": true,
    "tags": []
   },
   "source": [
    "## Libraries"
   ]
  },
  {
   "cell_type": "code",
   "execution_count": null,
   "metadata": {
    "hidden": true,
    "tags": [
     "\"hide-input\""
    ]
   },
   "outputs": [],
   "source": [
    "import IPython\n",
    "# IPython.Application.instance().kernel.do_shutdown(True)\n",
    "\n",
    "\n",
    "%matplotlib widget\n",
    "\n",
    "import os\n",
    "import sys\n",
    "import json\n",
    "import time\n",
    "import datetime\n",
    "import pycwt\n",
    "import statistics\n",
    "import random\n",
    "import pickle\n",
    "import numpy as np\n",
    "import scipy as sp\n",
    "import pandas as pd\n",
    "import seaborn as sns\n",
    "import sklearn as sk\n",
    "import tkinter as tk\n",
    "import matplotlib.pyplot as plt\n",
    "from sklearn import metrics\n",
    "from sklearn import decomposition\n",
    "from sklearn.decomposition import PCA\n",
    "from tkinter import *\n",
    "from tkinter import ttk\n",
    "from sklearn import preprocessing\n",
    "from datetime import date\n",
    "import matplotlib.dates as mdates\n",
    "\n",
    "from neurodsp.rhythm import sliding_window_matching\n",
    "from neurodsp.utils.download import load_ndsp_data\n",
    "from neurodsp.plts.rhythm import plot_swm_pattern\n",
    "from neurodsp.plts.time_series import plot_time_series\n",
    "from neurodsp.utils import set_random_seed, create_times\n",
    "# Import listed chormap\n",
    "from matplotlib.colors import ListedColormap\n",
    "import matplotlib.dates as md\n",
    "from matplotlib import colors as mcolors\n",
    "# Scipy\n",
    "from scipy import signal\n",
    "from scipy import ndimage\n",
    "# TKinter for selecting files\n",
    "from tkinter import Tk     # from tkinter import Tk for Python 3.x\n",
    "from tkinter.filedialog import askdirectory\n",
    "from scipy.stats import zscore\n",
    "\n",
    "\n",
    "# Add my module to python path\n",
    "sys.path.append(\"../\")\n"
   ]
  },
  {
   "cell_type": "code",
   "execution_count": null,
   "metadata": {},
   "outputs": [],
   "source": [
    "# Functions\n",
    "def filter(signal2filt,filter_ch, fs, filtername, **kargs):\n",
    "    \"\"\"\n",
    "    Method to apply filtering to recordings (ENG)\n",
    "    Note that despite the whole dataframe is passed, the algorithm only applies to the selected channels (filter_ch)\n",
    "\n",
    "    Parameters\n",
    "    ------------\n",
    "    signal2filt: [dataframe] signals to filter (columns in dataframe structure)\n",
    "    filtername:  [string] name of the filter to apply {'None', 'butter', 'fir', 'notch'}\n",
    "    kargs:     [dict] specific parameters for for the filters\n",
    "\n",
    "    Returns\n",
    "    ------------\n",
    "    filtered: [dataframe] updare the recording object with a parameter that is a dataframe with the results of the filtering\n",
    "\n",
    "    \"\"\"\n",
    "    if filtername=='None':\n",
    "        filtered = signal2filt\n",
    "        print('No filter applied!')\n",
    "        pass\n",
    "    elif filtername=='butter':\n",
    "        # Configure butterworth filter\n",
    "        kargs['fs'] = fs\n",
    "        sos = signal.butter(**kargs, output='sos')\n",
    "        filtered = signal2filt.apply(lambda x: signal.sosfilt(sos, x)\n",
    "                            if x.name in filter_ch else x)\n",
    "\n",
    "    elif filtername=='fir':\n",
    "        print(filter_ch)\n",
    "        filtered = signal2filt.apply(lambda x: FIR_smooth(x, **kargs) \n",
    "                            if x.name in filter_ch else x)\n",
    "    elif filtername=='notch':\n",
    "        filtered = signal2filt.apply(lambda x: iir_notch(x, **kargs)\n",
    "                            if x.name in filter_ch else x)\n",
    "        return filtered\n",
    "    \n",
    "def plot_freq_content(signal2plot, ch,fs, nperseg=512, max_freq=10000, ylim=None, dtformat='%M:%S.%f', figsize=(10, 15), savefigpath='', show=False):\n",
    "    \"\"\"\n",
    "    plt.specgram parameters: \n",
    "    NFFT : int\n",
    "        The number of data points used in each block for the FFT. A power 2 is most efficient. The default value is 256.\n",
    "        The benefit of a longer FFT is that you will have more frequency resolution. The number of FFT bins, the discrete \n",
    "        fequency interval of the transform will be N/2. So the frequency resolution of each bin will be the sample frequency Fs x 2/N.\n",
    "    mode : {'default', 'psd', 'magnitude', 'angle', 'phase'}\n",
    "        What sort of spectrum to use. Default is 'psd', which takes the power spectral density. \n",
    "        'magnitude' returns the magnitude spectrum. 'angle' returns the phase spectrum without unwrapping. \n",
    "        'phase' returns the phase spectrum with unwrapping.\n",
    "    scale : {'default', 'linear', 'dB'}\n",
    "        The scaling of the values in the spec. 'linear' is no scaling. 'dB' returns the values in dB scale. When mode is 'psd', \n",
    "        this is dB power (10 * log10). Otherwise this is dB amplitude (20 * log10). 'default' is 'dB' if mode is 'psd' or 'magnitude' \n",
    "        and 'linear' otherwise. This must be 'linear' if mode is 'angle' or 'phase'.\n",
    "    \"\"\"\n",
    "    # Raw signal\n",
    "    fig, ax = plt.subplots(3, 1, figsize=figsize)\n",
    "    ax[0].plot(signal2plot.index, signal2plot['ch_%s'%ch], linewidth=0.5, zorder=0)\n",
    "    ax[0].set_title('Sampling Frequency: {}Hz'.format(fs))\n",
    "    ax[0].set_xlabel('Time [s]')\n",
    "    ax[0].set_ylabel('Voltage [uV]')\n",
    "    if ylim is not None:\n",
    "        ax[0].set_ylim(ylim)\n",
    "\n",
    "    # PSD (whole dataset ferquency distribution)\n",
    "    f_data, Pxx_den_data = signal.welch(signal2plot['ch_%s'%ch], fs, nperseg=512) # nperseg\n",
    "    # ax[1].psd(data[0:sf], NFFT=1024, Fs=sf)\n",
    "    ax[1].semilogx(f_data, Pxx_den_data)\n",
    "    ax[1].set_xlabel('Frequency [Hz]')\n",
    "    ax[1].set_ylabel('PSD [V**2/Hz]')\n",
    "\n",
    "    # Spectogram (frequency content vs time)\n",
    "    # plt.specgram plots 10*np.log10(Pxx) instead of Pxx\n",
    "    plt.subplot(313)\n",
    "    powerSpectrum, freqenciesFound, time, imageAxis = plt.specgram(signal2plot['ch_%s'%ch], NFFT=nperseg, Fs=fs, mode='psd', scale='dB')\n",
    "    plt.ylabel('Spectogram \\n Frequenct [Hz]')\n",
    "    plt.xlabel('Time [s]')\n",
    "    plt.ylim([0, max_freq])\n",
    "    clb = plt.colorbar(imageAxis)\n",
    "    clb.ax.set_title('10*np.log10 \\n [dB/Hz]') \n",
    "\n",
    "    # Format axes\n",
    "    for i in range(len(ax)):\n",
    "        # Hide the right and top spines\n",
    "        ax[i].spines['right'].set_visible(False)\n",
    "        ax[i].spines['top'].set_visible(False)\n",
    "        # Only show ticks on the left and bottom spines\n",
    "        ax[i].yaxis.set_ticks_position('left')\n",
    "        ax[i].xaxis.set_ticks_position('bottom')\n",
    "    ax[0].xaxis.set_major_formatter(md.DateFormatter(dtformat))\n",
    "\n",
    "    if savefigpath!='':\n",
    "        plt.savefig(savefigpath, facecolor='w')\n",
    "\n",
    "    if show==True:\n",
    "        plt.show()\n",
    "    else:\n",
    "        print('Plot will not show')\n",
    "        plt.close()\n",
    "         \n",
    "def select_channels(channels):\n",
    "    \"\"\"\n",
    "    Method to select which channels to analyse \n",
    "    \n",
    "    Parameters\n",
    "    ------------\n",
    "    channels:     ['all' or list of numbers] list of intan channels to be analysed\n",
    "\n",
    "    Return\n",
    "    --------\n",
    "        filter_ch:    [list of string] list with the selected intan channels in string mode (starting in 'ch_')\n",
    "    \"\"\"\n",
    "\n",
    "    filter_ch = []\n",
    "    for i, ch in enumerate(channels):\n",
    "        ch = int(ch)\n",
    "        filter_ch.append('ch_%s'%ch)\n",
    "        return filter_ch"
   ]
  },
  {
   "cell_type": "markdown",
   "metadata": {},
   "source": [
    "## Load data"
   ]
  },
  {
   "cell_type": "code",
   "execution_count": null,
   "metadata": {
    "scrolled": true,
    "tags": []
   },
   "outputs": [],
   "source": [
    "# Load data from pkl (saved after loading with INTAN script)\n",
    "recording = pd.DataFrame()\n",
    "path = ''\n",
    "file = ''\n",
    "fs = 30000\n",
    "\n",
    "with open('%s/%s.pkl'%(path, file), 'rb') as f:\n",
    "    recording = pickle.load(f)\n",
    "\n",
    "\n",
    "# Select channel position/number in intan \n",
    "channels = [1,27] # device 1: [1,27] 5C vs W # device2: [6, 24] 20C vs W\n",
    "plt_ch = channels[0] #Illustrative channel to plot"
   ]
  },
  {
   "cell_type": "code",
   "execution_count": null,
   "metadata": {
    "tags": []
   },
   "outputs": [],
   "source": [
    "# Get current time for saving (avoid overwriting)\n",
    "now = datetime.datetime.now()\n",
    "current_time = now.strftime(\"%d%m%Y_%H%M%S\")"
   ]
  },
  {
   "cell_type": "markdown",
   "metadata": {},
   "source": [
    "## Configuration"
   ]
  },
  {
   "cell_type": "markdown",
   "metadata": {},
   "source": [
    "###  General configuration  \n"
   ]
  },
  {
   "cell_type": "markdown",
   "metadata": {
    "code_folding": []
   },
   "source": [
    "#### Options list"
   ]
  },
  {
   "cell_type": "code",
   "execution_count": null,
   "metadata": {},
   "outputs": [],
   "source": [
    "options_filter = [\n",
    "    \"None\", \n",
    "    \"butter\", \n",
    "    \"fir\"]                # Binomial Weighted Average Filter\n"
   ]
  },
  {
   "cell_type": "code",
   "execution_count": null,
   "metadata": {},
   "outputs": [],
   "source": [
    "# Configure\n",
    "config_text = []\n",
    "apply_filter = options_filter[1]    \n",
    "\n",
    "\n",
    "print('SELECTED GENERAL CONFIGURATION:')\n",
    "print('Filter: %s'%apply_filter)\n",
    "print('Channels: %s' %channels) \n",
    "print('-------------------------------------')\n",
    "\n",
    "filter_ch = select_channels(channels) \n",
    "print('filter_ch %s' %filter_ch)\n"
   ]
  },
  {
   "cell_type": "markdown",
   "metadata": {},
   "source": [
    "## START ANALYSIS                                             \n"
   ]
  },
  {
   "cell_type": "code",
   "execution_count": null,
   "metadata": {},
   "outputs": [],
   "source": [
    "# Remove all columns expect the selected channels\n",
    "recording.drop(recording.columns.difference(filter_ch['seconds']), 1, inplace=True)\n",
    "print(recording)"
   ]
  },
  {
   "cell_type": "markdown",
   "metadata": {},
   "source": [
    "### Plot raw signal"
   ]
  },
  {
   "cell_type": "code",
   "execution_count": null,
   "metadata": {
    "tags": []
   },
   "outputs": [],
   "source": [
    "plot_freq_content(recording,int(plot_ch),fs, nperseg=512, max_freq=4000, ylim=[-500, 500], dtformat='%H:%M:%S',\n",
    "                         figsize=(10, 10), savefigpath='%s/figures/%s_ch%s_original-%s.png' %(path, port, plot_ch, current_time), \n",
    "                         show=True) "
   ]
  },
  {
   "cell_type": "markdown",
   "metadata": {},
   "source": [
    "#### Bandwidth filter"
   ]
  },
  {
   "cell_type": "code",
   "execution_count": null,
   "metadata": {},
   "outputs": [],
   "source": [
    "# Configure filter\n",
    "filt_config = {\n",
    "    'W': [200],\n",
    "    'None': {},\n",
    "    'butter': {\n",
    "            'N': 9,                # The order of the filter\n",
    "            'btype': 'lowpass', #'bandpass', #'hp'  #'lowpass'     # The type of filter.\n",
    "    },      \n",
    "    'fir': {\n",
    "            'n': 4,\n",
    "    },\n",
    "    'notch': {\n",
    "            'quality_factor': 30,\n",
    "    },\n",
    "}\n",
    "\n",
    "filt_config['butter']['Wn'] = filt_config['W']\n",
    "filt_config['butter']['fs'] = fs\n"
   ]
  },
  {
   "cell_type": "markdown",
   "metadata": {
    "tags": []
   },
   "source": [
    "##### Apply filter"
   ]
  },
  {
   "cell_type": "code",
   "execution_count": null,
   "metadata": {
    "tags": []
   },
   "outputs": [],
   "source": [
    "# Configure\n",
    "time_start = time.time()\n",
    "signal2filter = recording \n",
    "filtered = filter(recording, filter_ch, fs, apply_filter, **filt_config[apply_filter])\n",
    "\n",
    "print(\"Time elapsed: {} seconds\".format(time.time()-time_start))"
   ]
  },
  {
   "cell_type": "markdown",
   "metadata": {
    "tags": []
   },
   "source": [
    "##### Plot filtered signal"
   ]
  },
  {
   "cell_type": "code",
   "execution_count": null,
   "metadata": {
    "tags": []
   },
   "outputs": [],
   "source": [
    "text_label = 'Filtered'\n",
    "text = 'Channels after %s filtering'%apply_filter\n",
    "plot_freq_content(filtered,int(plot_ch), fs, nperseg=512, max_freq=250, ylim=[-100, 100], dtformat='%H:%M:%S',\n",
    "                         figsize=(10, 10), savefigpath='%s/figures/%s_ch%s_butter_filtering-%s.png' %(path,port,plot_ch, current_time),\n",
    "                         show=True) \n"
   ]
  },
  {
   "cell_type": "markdown",
   "metadata": {},
   "source": [
    "#### Notch filtering"
   ]
  },
  {
   "cell_type": "code",
   "execution_count": null,
   "metadata": {},
   "outputs": [],
   "source": [
    "time_start = time.time()\n",
    "freq_notch =  [50, 150]\n",
    "for n in freq_notch:\n",
    "    filt_config['notch']['notch_freq'] = n\n",
    "    filtered_notch = filter(filtered, 'notch', **filt_config['notch'])\n",
    "print(\"Time elapsed: {} seconds\".format(time.time()-time_start))\n",
    "\n",
    "recording=filtered_notch\n",
    "recording.name = 'filtered'\n"
   ]
  },
  {
   "cell_type": "markdown",
   "metadata": {},
   "source": [
    "#### Plot filtered signal"
   ]
  },
  {
   "cell_type": "code",
   "execution_count": null,
   "metadata": {
    "tags": []
   },
   "outputs": [],
   "source": [
    "text_label = 'Filtered'\n",
    "text = 'Channels after %s filtering'%'notch'\n",
    "\n",
    "plot_freq_content(filtered_notch, filter_ch, fs, int(plot_ch),fs, ylim=[-400, 400], nperseg=512, max_freq=200, dtformat='%H:%M:%S',\n",
    "                         figsize=(10, 10), savefigpath='%s/figures/%s_ch%s_allfilt-%s.png' %(path, port,plot_ch, current_time), show=True) \n"
   ]
  },
  {
   "cell_type": "markdown",
   "metadata": {},
   "source": [
    "## Create datasets of metrics from rest and active activity"
   ]
  },
  {
   "cell_type": "code",
   "execution_count": null,
   "metadata": {},
   "outputs": [],
   "source": [
    "# Select device start and end times (from filtered plot)\n",
    "# device 1\n",
    "ind_st_base    = [2, 16, 78, 97,  115, 151, 204, 212, 247, 284, 297, 312, 362, 387, 394, 420, 429, 440, 462, 495]\n",
    "ind_end_base   = [6, 24, 82, 100, 119, 154, 206, 219, 250, 291, 301, 316, 365, 390, 396, 426, 435, 447, 473, 499]\n",
    "ind_st_active  = [7, 25, 83, 100, 119, 154, 206, 219, 250, 291, 301, 316, 365, 390, 396, 426, 435, 447, 473, 499]\n",
    "ind_end_active = [10,28, 86, 103, 151, 162, 212, 225, 258, 297, 305, 323, 369, 394, 400, 429, 440, 451, 478, 504]\n",
    "'''\n",
    "\n",
    "# device 2\n",
    "ind_st_base    = [135, 198, 218, 240, 286, 310, 319, 347, 363, 382, 411]\n",
    "ind_end_base   = [151, 206, 228, 246, 291, 316, 323, 352, 370, 391, 414]\n",
    "ind_st_active  = [151, 206, 228, 246, 291, 316, 323, 352, 370, 391, 414]\n",
    "ind_end_active = [156, 211, 235, 251, 302, 319, 327, 363, 374, 395, 416]\n",
    "'''\n",
    "\n",
    "# Initialise\n",
    "alllist = range(len(ind_st_base))\n",
    "\n",
    "var_active_0 = []\n",
    "var_active_1 = []\n",
    "\n",
    "var_base_0 = []\n",
    "var_base_1 = []\n",
    "\n",
    "std_base_0 = []\n",
    "std_base_1 = []\n",
    "\n",
    "# Compute metrics for each period \n",
    "for i in alllist:\n",
    "    df = recording.iloc[ind_st_active[i]*int(fs): ind_end_active[i]*int(fs)]\n",
    "    var_active_0.append(df[filter_ch[0]].var())\n",
    "    var_active_1.append(df[filter_ch[1]].var())\n",
    "   \n",
    "print('--------------')\n",
    "for i in alllist:\n",
    "    df = recording.iloc[ind_st_base[i]*int(fs): ind_end_base[i]*int(fs)]\n",
    "    var_base_0.append(df[filter_ch[0]].var())\n",
    "    var_base_1.append(df[filter_ch[1]].var())\n",
    "   \n",
    "# Plot obtained metrics\n",
    "print('------ STD active ------')\n",
    "print(var_active_0)\n",
    "print(var_active_1)\n",
    "\n",
    "print('------ MAX active ------')\n",
    "print(max_active_0)\n",
    "print(max_active_1)\n",
    "\n",
    "print('------ VAR base ---------')\n",
    "print(var_base_0)\n",
    "print(var_base_1)\n",
    "\n",
    "print('------ STD base ---------')\n",
    "print(std_base_0)\n",
    "print(std_base_1)\n",
    "\n",
    "print('-------SNR base--------')\n",
    "snr0 = [10*np.log10(i / j) for i, j in zip(var_active_0, var_base_0)]\n",
    "snr1 = [10*np.log10(i / j) for i, j in zip(var_active_1, var_base_1)]\n",
    "print(snr0)\n",
    "print(snr1)\n",
    "\n",
    "print('-------------Mean SNR---')\n",
    "print('%s +- %s' %(np.mean(snr0), np.std(snr0)))\n",
    "print('%s +- %s' %(np.mean(snr1), np.std(snr1)))\n",
    "\n",
    "print('-------------Mean STD rest---')\n",
    "print('%s +- %s' %(np.mean(std_base_0), np.std(std_base_0)))\n",
    "print('%s +- %s' %(np.mean(std_base_1), np.std(std_base_1)))\n"
   ]
  },
  {
   "cell_type": "code",
   "execution_count": null,
   "metadata": {},
   "outputs": [],
   "source": [
    "### Plotting comparison variables \n",
    "import seaborn as sns\n",
    "sns.set_theme(style=\"whitegrid\")\n",
    "\n",
    "data = pd.DataFrame({'wire': np.repeat([1,2], len(ind_st_base)),\n",
    "                   'response_snr': snr1 +snr0,\n",
    "                   'response_var_active': var_active_1+ var_active_0,\n",
    "                   'response_var_base': var_base_1+ var_base_0,\n",
    "                   'response_var_base': var_base_1+ var_base_0,})\n",
    "\n",
    "\n",
    "fig1, [ax1, ax2] = plt.subplots(1,2)\n",
    "ax1.set_title('Boxplot')\n",
    "sns.boxplot(data=data,x=\"wire\", y=\"response_snr\", ax=ax1, boxprops=dict(alpha=.6))\n",
    "sns.despine(left=True)\n",
    "plt.show()\n",
    "\n",
    "fig1, [ax1, ax2] = plt.subplots(1,2)\n",
    "ax1.set_title('Boxplot')\n",
    "sns.boxplot(data=data,x=\"wire\", y=\"response_var_active\", ax=ax1, boxprops=dict(alpha=.6))\n",
    "sns.despine(left=True)\n",
    "plt.show()\n",
    "\n",
    "fig1, [ax1, ax2] = plt.subplots(1,2)\n",
    "ax1.set_title('Boxplot')\n",
    "sns.boxplot(data=data,x=\"wire\", y=\"response_var_base\", ax=ax1)\n",
    "sns.violinplot(data=data, x=\"wire\", y=\"response_var_base\", ax=ax2)\n",
    "sns.despine(left=True)\n",
    "plt.show()\n",
    "\n",
    "fig1, [ax1, ax2] = plt.subplots(1,2)\n",
    "ax1.set_title('Boxplot')\n",
    "sns.boxplot(data=data,x=\"wire\", y=\"response_std_rest\", ax=ax1)\n",
    "sns.violinplot(data=data, x=\"wire\", y=\"response_std_rest\", ax=ax2)\n",
    "sns.despine(left=True)\n",
    "plt.show()"
   ]
  },
  {
   "cell_type": "markdown",
   "metadata": {},
   "source": [
    "## Calculate statistics and make plots"
   ]
  },
  {
   "cell_type": "code",
   "execution_count": null,
   "metadata": {},
   "outputs": [],
   "source": [
    "\n",
    "###############################################################################\n",
    "#\n",
    "#                       STATISTICAL TESTS 2 GROUPS\n",
    "#\n",
    "###############################################################################\n",
    "\n",
    "from processing.stat_analysis import jhu_stat_analysis\n",
    "import permutation_test\n",
    "\n",
    "def stat_analysis_2groups(g0, g1, alpha=0.05, print_info=True):\n",
    "    \"\"\"\n",
    "\n",
    "    \"\"\"\n",
    "    #p_value = stats.permutation_test(g0, g1)\n",
    "    #print(\"p-value in Permutation: %s\" %p_value)\n",
    "    # ------------------------------------------------------\n",
    "    # Compute Shapiro-Wilk test tests the null hypothesis that the data was drawn from a normal distribution.\n",
    "    # ------------------------------------------------------\n",
    "\n",
    "    shapiro_test_g0 = stats.shapiro(g0)\n",
    "    p_s_g0 = shapiro_test_g0[1]\n",
    "\n",
    "    shapiro_test_g1 = stats.shapiro(g1)\n",
    "    p_s_g1 = shapiro_test_g1[1]\n",
    "    # ------------------------------------------------------\n",
    "    # Compute Levene test for equal variances (for not normal distributions)\n",
    "    # ------------------------------------------------------\n",
    "\n",
    "    Tl, pl = stats.levene(g0, g1, center='trimmed') \n",
    "\n",
    "    if print_info:\n",
    "            print(\"p-value in Levene's: %s\" %pl)\n",
    "\n",
    "\n",
    "    # ------------------------------------------------------\n",
    "    # Compute t-test for equal means (require equal variances)\n",
    "    # ------------------------------------------------------\n",
    "\n",
    "    T, p = stats.ttest_ind(g0, g1)\n",
    "\n",
    "    if print_info:\n",
    "            print(\"p-value in t-test: %s\" %p)\n",
    "\n",
    "    # ------------------------------------------------------\n",
    "    # Compute paired t-test (require equal variances)\n",
    "    # ------------------------------------------------------\n",
    "\n",
    "    T, p_rel = stats.ttest_rel(g0, g1)\n",
    "\n",
    "    if print_info:\n",
    "            print(\"p-value in paired t-test: %s\" %p_rel)\n",
    "\n",
    "    # ------------------------------------------------------\n",
    "    # Compute Wilcoxon to check for non-parametric\n",
    "    # ------------------------------------------------------\n",
    "\n",
    "    Tw, pw = stats.wilcoxon(g0, g1)\n",
    "\n",
    "    if print_info:\n",
    "            print(\"p-value in Wilcoxon's: %s\" %pw)\n",
    "\n",
    "\n",
    "    # ------------------------------------------------------\n",
    "    # Analysis of results\n",
    "    # ------------------------------------------------------\n",
    "\n",
    "    print(\"------------ Analysis  -------------\")\n",
    "    if p_s_g0<alpha:\n",
    "        print(\"Shapiro-Wilk test on g0: reject H0 --> Doesn't come from normal distribution\" )\n",
    "    if p_s_g1<alpha:\n",
    "        print(\"Shapiro-Wilk test on g1: reject H0 --> Doesn't come from normal distribution\" )\n",
    "\n",
    "    if p_s_g0>alpha:\n",
    "        print(\"Shapiro-Wilk test on g0: can't reject H0 --> Might come from normal distribution\" )\n",
    "    if p_s_g1>alpha:\n",
    "        print(\"Shapiro-Wilk test on g1: can't reject H0 --> Might come from normal distribution\" )\n",
    "\n",
    "    if pl<alpha:\n",
    "        print(\"Levene's: reject H0 --> There is a difference in variances of groups\" )\n",
    "        print(\"           Parametric t-test can't be used\")\n",
    "        if pw<alpha:\n",
    "                print(\"Wilcoxon: reject H0 --> Configurations are significantly different\" )\n",
    "        if pw>alpha:\n",
    "                print(\"Wilcoxon: can't reject H0 --> Not significant difference: come from same population\" )\n",
    "\n",
    "    if pl>alpha:\n",
    "        print(\"Levene's: can't reject H0 --> Not significant difference in variances\" )\n",
    "        print(\"           Parametric t-test CAN be used\" )\n",
    "        if p<alpha:\n",
    "            print(\"T-test: reject H0 --> Mean of configurations is significantly different\" )\n",
    "        if p_rel<alpha:\n",
    "            print(\"Paired T-test: reject H0 --> Mean of configurations is significantly different\" )\n",
    "\n",
    "        if p>alpha:\n",
    "            print(\"T-test: can't reject H0 --> Not significant difference in mean\" )\n",
    "        if p_rel>alpha:\n",
    "            print(\"Paired T-test: can't reject H0 --> Not significant difference in mean\") \n",
    "\n",
    "\n",
    "    return None\n",
    "\n",
    "\n",
    "print('----------------------------------------------------------------')\n",
    "print(' SNR' )\n",
    "print('----------------------------------------------------------------')\n",
    "stat_analysis_2groups(g0=snr0, g1=snr1, print_info=True)\n",
    "\n",
    "\n",
    "print('----------------------------------------------------------------')\n",
    "print(' std_base')\n",
    "print('----------------------------------------------------------------')\n",
    "stat_analysis_2groups(g0=std_base_0, g1=std_base_1, print_info=True)"
   ]
  }
 ],
 "metadata": {
  "kernelspec": {
   "display_name": "Python 3 (ipykernel)",
   "language": "python",
   "name": "python3"
  },
  "language_info": {
   "codemirror_mode": {
    "name": "ipython",
    "version": 3
   },
   "file_extension": ".py",
   "mimetype": "text/x-python",
   "name": "python",
   "nbconvert_exporter": "python",
   "pygments_lexer": "ipython3",
   "version": "3.9.10"
  },
  "toc": {
   "base_numbering": 1,
   "nav_menu": {
    "height": "301.997px",
    "width": "729.991px"
   },
   "number_sections": true,
   "sideBar": true,
   "skip_h1_title": false,
   "title_cell": "Table of Contents",
   "title_sidebar": "Contents",
   "toc_cell": false,
   "toc_position": {
    "height": "calc(100% - 180px)",
    "left": "10px",
    "top": "150px",
    "width": "284.508px"
   },
   "toc_section_display": true,
   "toc_window_display": true
  },
  "varInspector": {
   "cols": {
    "lenName": 16,
    "lenType": 16,
    "lenVar": 40
   },
   "kernels_config": {
    "python": {
     "delete_cmd_postfix": "",
     "delete_cmd_prefix": "del ",
     "library": "var_list.py",
     "varRefreshCmd": "print(var_dic_list())"
    },
    "r": {
     "delete_cmd_postfix": ") ",
     "delete_cmd_prefix": "rm(",
     "library": "var_list.r",
     "varRefreshCmd": "cat(var_dic_list()) "
    }
   },
   "types_to_exclude": [
    "module",
    "function",
    "builtin_function_or_method",
    "instance",
    "_Feature"
   ],
   "window_display": false
  }
 },
 "nbformat": 4,
 "nbformat_minor": 4
}
